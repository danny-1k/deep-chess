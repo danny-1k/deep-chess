{
 "cells": [
  {
   "cell_type": "markdown",
   "metadata": {},
   "source": [
    "## 0. Dependencies"
   ]
  },
  {
   "cell_type": "code",
   "execution_count": null,
   "metadata": {
    "vscode": {
     "languageId": "shellscript"
    }
   },
   "outputs": [],
   "source": [
    "!pip install python-chess\n",
    "!pip install tqdm"
   ]
  },
  {
   "cell_type": "markdown",
   "metadata": {},
   "source": [
    "## 0.2 Global Vars"
   ]
  },
  {
   "cell_type": "code",
   "execution_count": null,
   "metadata": {
    "vscode": {
     "languageId": "shellscript"
    }
   },
   "outputs": [],
   "source": [
    "DATA_DIR = '/Drive/chess_data'\n",
    "PLOTS_DIR = '/Drive/plots'\n",
    "CHECKPOINTS_DIR = '/Drive/checkpoints'"
   ]
  },
  {
   "cell_type": "markdown",
   "metadata": {},
   "source": [
    "## 0.5 Import dependencies"
   ]
  },
  {
   "cell_type": "code",
   "execution_count": null,
   "metadata": {},
   "outputs": [],
   "source": [
    "import os\n",
    "import random\n",
    "\n",
    "import torch\n",
    "import torch.nn as nn\n",
    "from torch.utils.data import DataLoader\n",
    "from torch.utils.data import Dataset\n",
    "\n",
    "import numpy as np\n",
    "\n",
    "from tqdm import tqdm\n",
    "import matplotlib.pyplot as plt\n",
    "\n",
    "import chess"
   ]
  },
  {
   "cell_type": "code",
   "execution_count": null,
   "metadata": {},
   "outputs": [],
   "source": [
    "if 'x' not in os.listdir(DATA_DIR):\n",
    "    os.makedirs(os.path.join(DATA_DIR,'x'))\n",
    "\n",
    "if 'y' not in os.listdir(DATA_DIR):\n",
    "    os.makedirs(os.path.join(DATA_DIR,'y'))\n",
    "\n",
    "if 'models' not in os.listdir(CHECKPOINTS_DIR):\n",
    "    os.makedirs(os.path.join(CHECKPOINTS_DIR,'models'))\n",
    "\n",
    "if 'state' not in os.listdir(CHECKPOINTS_DIR):\n",
    "    os.makedirs(os.path.join(CHECKPOINTS_DIR,'state'))"
   ]
  },
  {
   "cell_type": "markdown",
   "metadata": {},
   "source": [
    "## 1. Utility Functions"
   ]
  },
  {
   "cell_type": "code",
   "execution_count": null,
   "metadata": {},
   "outputs": [],
   "source": [
    "def convert_to_bb(board):\n",
    "    board = board.replace(' ','')\n",
    "    bb = np.zeros((8,8,12))\n",
    "    rows = board.split()\n",
    "    for r_idx,r in enumerate(rows):\n",
    "\n",
    "        for c_idx,c in enumerate(r):\n",
    "\n",
    "            for piece_idx,piece in enumerate('PRNBQKprnbqk'):\n",
    "                if c == piece:\n",
    "                    bb[r_idx,c_idx,piece_idx] = 1\n",
    "\n",
    "    return bb\n"
   ]
  },
  {
   "cell_type": "markdown",
   "metadata": {},
   "source": [
    "## 2. Data"
   ]
  },
  {
   "cell_type": "code",
   "execution_count": null,
   "metadata": {},
   "outputs": [],
   "source": [
    "class chessData(Dataset):\n",
    "\n",
    "    def __init__(self,train=True):\n",
    "        x = [os.path.join(f'{DATA_DIR}/x',f) for f in os.listdir(f'{DATA_DIR}/x')]\n",
    "        y = [os.path.join(f'{DATA_DIR}/y',f) for f in os.listdir(f'{DATA_DIR}/y')]\n",
    "\n",
    "        self.files = list(zip(x,y))\n",
    "        self.train = train\n",
    "\n",
    "        random.shuffle(self.files)\n",
    "\n",
    "        num_train = int(.8*len(self.files))\n",
    "\n",
    "        if self.train:\n",
    "            self.files = self.files[:num_train]\n",
    "        else:\n",
    "            self.files = self.files[num_train:]\n",
    "\n",
    "\n",
    "    def __len__(self):\n",
    "        return len(self.files)\n",
    "\n",
    "    def __getitem__(self, index):\n",
    "        x = self.files[index][0]\n",
    "        y = self.files[index][1]\n",
    "\n",
    "        x = np.load(x,allow_pickle=True)\n",
    "        y = np.load(y,allow_pickle=True)\n",
    "\n",
    "        x = torch.from_numpy(x).permute(2,0,1).float()\n",
    "        y = torch.from_numpy(y).float()\n",
    "\n",
    "        return x,y\n"
   ]
  },
  {
   "cell_type": "markdown",
   "metadata": {},
   "source": [
    "## 3. Neural Net"
   ]
  },
  {
   "cell_type": "code",
   "execution_count": null,
   "metadata": {},
   "outputs": [],
   "source": [
    "class Net(nn.Module):\n",
    "    def __init__(self):\n",
    "        super().__init__()\n",
    "\n",
    "        self.conv1 = nn.Conv2d(in_channels=12,out_channels=24,kernel_size=4,stride=2,padding=1)\n",
    "        self.conv2 = nn.Conv2d(in_channels=24,out_channels=48,kernel_size=4,stride=2,padding=1)\n",
    "        self.fc1 = nn.Linear(192,50)\n",
    "        self.fc2 = nn.Linear(50,1)\n",
    "        self.sigmoid = nn.Sigmoid()\n",
    "        self.relu = nn.ReLU()\n",
    "\n",
    "    \n",
    "    def forward(self,x):\n",
    "        #x -> (n, 8,8,12)\n",
    "        x = self.conv1(x) #(8-4 +2)/2 + 1 -> (4,4)\n",
    "        x = self.relu(x)\n",
    "\n",
    "        x = self.conv2(x) #(4-4 + 2)/2 +1 -> (2,2)\n",
    "        x = self.relu(x)\n",
    "\n",
    "        x = x.view(x.shape[0],-1)\n",
    "\n",
    "        x = self.fc1(x)\n",
    "        x = self.relu(x)\n",
    "        \n",
    "        x = self.fc2(x)\n",
    "        x = self.sigmoid(x)\n",
    "\n",
    "        return x\n",
    "\n",
    "    def save_model(self):\n",
    "        torch.save(self,f'{CHECKPOINTS_DIR}/models/Net.pt')\n",
    "\n",
    "    def save_checkpoint(self):\n",
    "        torch.save(self.state_dict(),f'{CHECKPOINTS_DIR}/state/Net_state_dict.pt')\n",
    "\n",
    "    def load_checkpoint(self):\n",
    "        self.load_state_dict(torch.load(f'{CHECKPOINTS_DIR}/state/Net_state_dict.pt'))"
   ]
  },
  {
   "cell_type": "markdown",
   "metadata": {},
   "source": [
    "## 4. Training"
   ]
  },
  {
   "cell_type": "code",
   "execution_count": null,
   "metadata": {},
   "outputs": [],
   "source": [
    "net = Net()\n",
    "net.save_model()\n",
    "\n",
    "epochs = 100\n",
    "lr = 1e-5\n",
    "\n",
    "lossfn = nn.L1Loss()\n",
    "optimizer = torch.optim.Adam(net.parameters(),lr=lr,)\n",
    "\n",
    "trainloader = DataLoader(chessData(train=True),batch_size=64,shuffle=True)\n",
    "testloader = DataLoader(chessData(train=False),batch_size=64,shuffle=True)\n",
    "\n",
    "train_loss_over_time = []\n",
    "test_loss_over_time = []\n",
    "\n",
    "lowest_loss = float('inf')\n",
    "\n",
    "print('training started')\n",
    "\n",
    "for epoch in tqdm(range(epochs)):\n",
    "\n",
    "    train_loss_epoch = []\n",
    "    test_loss_epoch = []\n",
    "\n",
    "    net.train()\n",
    "\n",
    "    for x,y in tqdm(trainloader):\n",
    "\n",
    "        p = net(x)\n",
    "        loss = lossfn(p,y)\n",
    "\n",
    "        train_loss_epoch.append(loss.item())\n",
    "\n",
    "        loss.backward()\n",
    "\n",
    "        optimizer.step()\n",
    "\n",
    "        optimizer.zero_grad()\n",
    "\n",
    "    \n",
    "    net.eval()\n",
    "\n",
    "    with torch.no_grad():\n",
    "\n",
    "        for x,y in testloader:\n",
    "            \n",
    "            p = net(x)\n",
    "            loss = lossfn(p,y)\n",
    "\n",
    "            test_loss_epoch.append(loss.item())\n",
    "\n",
    "    train_loss_over_time.append(sum(train_loss_epoch)/len(train_loss_epoch))\n",
    "    test_loss_over_time.append(sum(test_loss_epoch)/len(test_loss_epoch))\n",
    "\n",
    "    if test_loss_over_time[-1] < lowest_loss:\n",
    "        net.save_checkpoint()\n",
    "        lowest_loss = test_loss_over_time[-1]\n",
    "\n",
    "    \n",
    "    plt.plot(train_loss_over_time,label='Train loss over time')\n",
    "    plt.plot(test_loss_over_time,label='Test loss over time')\n",
    "    plt.legend()\n",
    "    plt.savefig('plots/Net_Loss')\n",
    "    plt.close('all')\n"
   ]
  },
  {
   "cell_type": "markdown",
   "metadata": {},
   "source": [
    "## 5. Testing "
   ]
  },
  {
   "cell_type": "code",
   "execution_count": null,
   "metadata": {},
   "outputs": [],
   "source": [
    "net.eval()\n",
    "net.requires_grad_(False)\n",
    "\n",
    "board = chess.Board()\n",
    "board.push(list(board.legal_moves)[0])\n",
    "\n",
    "\n",
    "for move in list(board.legal_moves):\n",
    "    board.push(move)\n",
    "\n",
    "    bb = torch.from_numpy(convert_to_bb(str(board)))\\\n",
    "        .permute(2,0,1).unsqueeze(0).float()\n",
    "    \n",
    "    pred = net(bb).squeeze()\n",
    "\n",
    "    print(pred)\n",
    "\n",
    "    board.pop()"
   ]
  }
 ],
 "metadata": {
  "language_info": {
   "name": "python"
  },
  "orig_nbformat": 4
 },
 "nbformat": 4,
 "nbformat_minor": 2
}
